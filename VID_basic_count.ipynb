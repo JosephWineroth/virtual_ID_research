{
 "cells": [
  {
   "cell_type": "code",
   "execution_count": 1,
   "metadata": {},
   "outputs": [],
   "source": [
    "### START of Spark initial setup ###\n",
    "\n",
    "# NOTE: Set up and initialize Spark session here. The rest of the code assumes that pyspark is accessible.\n",
    "\n",
    "### END of Spark initial setup ###"
   ]
  },
  {
   "cell_type": "code",
   "execution_count": 2,
   "metadata": {},
   "outputs": [],
   "source": [
    "import vid_spark\n",
    "from vid_spark import * \n",
    "import importlib\n",
    "importlib.reload(vid_spark)\n",
    "\n",
    "import pdb\n",
    "\n",
    "import warnings\n",
    "warnings.filterwarnings('ignore')"
   ]
  },
  {
   "cell_type": "code",
   "execution_count": 3,
   "metadata": {},
   "outputs": [],
   "source": [
    "# Import the impressions tables\n",
    "report_file = \"weighted_impression_table_5demos_report_1\"\n",
    "impressions = spark.table(report_file)\n",
    "\n",
    "# Generate the reach tables\n",
    "reach = generate_reach_table(impressions, mode=\"count\")"
   ]
  },
  {
   "cell_type": "markdown",
   "metadata": {},
   "source": [
    "# Learning the reach curve\n",
    "The first step is to fit the data into a mixture of deltas. "
   ]
  },
  {
   "cell_type": "code",
   "execution_count": 4,
   "metadata": {},
   "outputs": [
    {
     "name": "stdout",
     "output_type": "stream",
     "text": [
      "[verbose] alphas :  [0.5805 0.2144], rates  :  [0.3272 2.1065]\n"
     ]
    },
    {
     "data": {
      "text/plain": [
       "(<matplotlib.figure.Figure at 0x7f6c12f9beb8>,\n",
       " array([<matplotlib.axes._subplots.AxesSubplot object at 0x7f6c12f67400>,\n",
       "        <matplotlib.axes._subplots.AxesSubplot object at 0x7f6c12ea9940>],\n",
       "       dtype=object))"
      ]
     },
     "execution_count": 4,
     "metadata": {},
     "output_type": "execute_result"
    },
    {
     "data": {
      "image/png": "[encoded data removed]",
      "text/plain": [
       "<matplotlib.figure.Figure at 0x7f6c12f9beb8>"
      ]
     },
     "metadata": {
      "needs_background": "light"
     },
     "output_type": "display_data"
    }
   ],
   "source": [
    "# The observed population is small in size\n",
    "population_size=5*10**6\n",
    "\n",
    "# Fitting on the mixture of deltas and plot\n",
    "alphas, rates = fit_mixture_of_deltas(reach, n_deltas=2, population_size=population_size)\n",
    "plot_reach_curve(reach, alphas=alphas, rates=rates, \n",
    "                 plot_deltas=True, population_size=population_size, \n",
    "                 reach_kwargs={'ylim' : (0, 1.0e7)})"
   ]
  },
  {
   "cell_type": "code",
   "execution_count": 5,
   "metadata": {},
   "outputs": [
    {
     "data": {
      "text/html": [
       "<div>\n",
       "<style scoped>\n",
       "    .dataframe tbody tr th:only-of-type {\n",
       "        vertical-align: middle;\n",
       "    }\n",
       "\n",
       "    .dataframe tbody tr th {\n",
       "        vertical-align: top;\n",
       "    }\n",
       "\n",
       "    .dataframe thead th {\n",
       "        text-align: right;\n",
       "    }\n",
       "</style>\n",
       "<table border=\"1\" class=\"dataframe\">\n",
       "  <thead>\n",
       "    <tr style=\"text-align: right;\">\n",
       "      <th></th>\n",
       "      <th>prob_&gt;=</th>\n",
       "      <th>prob_&lt;</th>\n",
       "      <th>alpha</th>\n",
       "      <th>rate</th>\n",
       "      <th>start_VID</th>\n",
       "      <th>total_VID</th>\n",
       "    </tr>\n",
       "  </thead>\n",
       "  <tbody>\n",
       "    <tr>\n",
       "      <th>0</th>\n",
       "      <td>0.000000</td>\n",
       "      <td>0.189957</td>\n",
       "      <td>0.580465</td>\n",
       "      <td>0.327249</td>\n",
       "      <td>1</td>\n",
       "      <td>2902327</td>\n",
       "    </tr>\n",
       "    <tr>\n",
       "      <th>1</th>\n",
       "      <td>0.189957</td>\n",
       "      <td>0.641619</td>\n",
       "      <td>0.214414</td>\n",
       "      <td>2.106500</td>\n",
       "      <td>2902328</td>\n",
       "      <td>1072068</td>\n",
       "    </tr>\n",
       "    <tr>\n",
       "      <th>2</th>\n",
       "      <td>0.641619</td>\n",
       "      <td>1.000000</td>\n",
       "      <td>0.000000</td>\n",
       "      <td>0.000000</td>\n",
       "      <td>0</td>\n",
       "      <td>1</td>\n",
       "    </tr>\n",
       "  </tbody>\n",
       "</table>\n",
       "</div>"
      ],
      "text/plain": [
       "    prob_>=    prob_<     alpha      rate  start_VID  total_VID\n",
       "0  0.000000  0.189957  0.580465  0.327249          1    2902327\n",
       "1  0.189957  0.641619  0.214414  2.106500    2902328    1072068\n",
       "2  0.641619  1.000000  0.000000  0.000000          0          1"
      ]
     },
     "execution_count": 5,
     "metadata": {},
     "output_type": "execute_result"
    }
   ],
   "source": [
    "df_dirac_mixtures = pd.DataFrame([[1.0, alphas, rates]], columns=['ratio', 'alphas', 'rates'])\n",
    "\n",
    "# Generate the VID assignment table : probability and VID ranges\n",
    "vid_assignment_table = spark.createDataFrame(\n",
    "    generate_vid_assignment_table(df_dirac_mixtures, population_size=population_size, normalize=False)\n",
    ")\n",
    "\n",
    "vid_assignment_table.show()"
   ]
  },
  {
   "cell_type": "code",
   "execution_count": 6,
   "metadata": {},
   "outputs": [],
   "source": [
    "# The parameter for plotting the VID counts\n",
    "vid_reach_kwargs = {\n",
    "    'jump' : 100,\n",
    "    'ylim' : (0, 1.0e7),\n",
    "    'axes_info' : { \n",
    "        'color'      : 'C0',\n",
    "        'linestyle'  : '',\n",
    "        'marker'     : 'd',\n",
    "        'markersize' : 4,\n",
    "        'label'      : 'VID count' }\n",
    "}"
   ]
  },
  {
   "cell_type": "markdown",
   "metadata": {},
   "source": [
    "# Use `user_id` as the source of hash function\n",
    "\n",
    "The basic algorithm suggests to use `cookie_id` or here `user_id`s as the source of randomness. Since the original algorithm deal with a reach curve that is \"unique person reach\" as a function of \"unique cookie reach\". However, here we deal with \"unique person reach\" as a function of \"number of impressions/events\". The two problem while similear in nature are very different.\n",
    "\n",
    "If we use `user_id` for the source of hash function that assigns the VIDs, we end up with significant under-estimation of the reach curve. That is because size of pools are determined by the amplitude of the $i$th pool, $\\alpha_i$, while the probability of an impression/cookie belonging to each pool is ${\\alpha_i x_i}$."
   ]
  },
  {
   "cell_type": "code",
   "execution_count": 7,
   "metadata": {},
   "outputs": [
    {
     "data": {
      "text/plain": [
       "(<matplotlib.figure.Figure at 0x7f6bfa515c88>,\n",
       " array([<matplotlib.axes._subplots.AxesSubplot object at 0x7f6bfa515ba8>,\n",
       "        <matplotlib.axes._subplots.AxesSubplot object at 0x7f6bfa5289b0>],\n",
       "       dtype=object))"
      ]
     },
     "execution_count": 7,
     "metadata": {},
     "output_type": "execute_result"
    },
    {
     "data": {
      "image/png": "[encoded data removed]",
      "text/plain": [
       "<matplotlib.figure.Figure at 0x7f6bfa515c88>"
      ]
     },
     "metadata": {
      "needs_background": "light"
     },
     "output_type": "display_data"
    }
   ],
   "source": [
    "# Using the \"uid\" mode for the VID assignment that uses `user_id` for the source of randomness\n",
    "vid_impressions = assign_vids(impressions, vid_assignment_table, population_size=population_size, mode=\"uid\")\n",
    "\n",
    "vid_reach = generate_reach_table(vid_impressions, id_col=\"vid\", mode=\"count\")\n",
    "\n",
    "# Plot the VID counts vs reported reach\n",
    "plot_reach_curve(vid_reach, alphas=alphas, rates=rates, \n",
    "                 plot_deltas=True, population_size=population_size, \n",
    "                 reach_kwargs=vid_reach_kwargs)"
   ]
  },
  {
   "cell_type": "markdown",
   "metadata": {},
   "source": [
    "# Use `user_id` and `timestamp` as the source of hash function\n",
    "As we observed using the user_id as the source of hash function under-estimates the reach curve, to fix that we can remain more true to the original distribution by using a unique id for the source of randomness. We can, for example, try the `user_id` and `timestamp` for the source of hash function to observe the performance of virtual ID assignment to replicate the reach curve."
   ]
  },
  {
   "cell_type": "code",
   "execution_count": 8,
   "metadata": {},
   "outputs": [
    {
     "data": {
      "text/plain": [
       "(<matplotlib.figure.Figure at 0x7f6bfa432588>,\n",
       " array([<matplotlib.axes._subplots.AxesSubplot object at 0x7f6c0809a710>,\n",
       "        <matplotlib.axes._subplots.AxesSubplot object at 0x7f6bfa402d30>],\n",
       "       dtype=object))"
      ]
     },
     "execution_count": 8,
     "metadata": {},
     "output_type": "execute_result"
    },
    {
     "data": {
      "image/png": "[encoded data removed]",
      "text/plain": [
       "<matplotlib.figure.Figure at 0x7f6bfa432588>"
      ]
     },
     "metadata": {
      "needs_background": "light"
     },
     "output_type": "display_data"
    }
   ],
   "source": [
    "# Using the \"uid_time\" mode for the VID assignment\n",
    "vid_impressions = assign_vids(impressions, vid_assignment_table, population_size=population_size, mode=\"uid_time\")\n",
    "\n",
    "vid_reach = generate_reach_table(vid_impressions, id_col=\"vid\", mode=\"count\")\n",
    "\n",
    "# Plot the VID counts vs reported reach\n",
    "plot_reach_curve(vid_reach, alphas=alphas, rates=rates, \n",
    "                 plot_deltas=True, population_size=population_size, \n",
    "                 reach_kwargs=vid_reach_kwargs)"
   ]
  },
  {
   "cell_type": "code",
   "execution_count": 9,
   "metadata": {},
   "outputs": [
    {
     "data": {
      "text/html": [
       "<div>\n",
       "<style scoped>\n",
       "    .dataframe tbody tr th:only-of-type {\n",
       "        vertical-align: middle;\n",
       "    }\n",
       "\n",
       "    .dataframe tbody tr th {\n",
       "        vertical-align: top;\n",
       "    }\n",
       "\n",
       "    .dataframe thead th {\n",
       "        text-align: right;\n",
       "    }\n",
       "</style>\n",
       "<table border=\"1\" class=\"dataframe\">\n",
       "  <thead>\n",
       "    <tr style=\"text-align: right;\">\n",
       "      <th></th>\n",
       "      <th>alpha</th>\n",
       "      <th>rate</th>\n",
       "      <th>alpha * rate</th>\n",
       "      <th>VID_pool_size</th>\n",
       "      <th>impressions</th>\n",
       "      <th>VID_reach</th>\n",
       "      <th>distinct_users</th>\n",
       "    </tr>\n",
       "  </thead>\n",
       "  <tbody>\n",
       "    <tr>\n",
       "      <th>0</th>\n",
       "      <td>0.000000</td>\n",
       "      <td>0.000000</td>\n",
       "      <td>0.000000</td>\n",
       "      <td>1</td>\n",
       "      <td>7574123</td>\n",
       "      <td>1</td>\n",
       "      <td>2347072</td>\n",
       "    </tr>\n",
       "    <tr>\n",
       "      <th>1</th>\n",
       "      <td>0.580465</td>\n",
       "      <td>0.327249</td>\n",
       "      <td>0.189957</td>\n",
       "      <td>2902327</td>\n",
       "      <td>4016634</td>\n",
       "      <td>2174670</td>\n",
       "      <td>1766188</td>\n",
       "    </tr>\n",
       "    <tr>\n",
       "      <th>2</th>\n",
       "      <td>0.214414</td>\n",
       "      <td>2.106500</td>\n",
       "      <td>0.451662</td>\n",
       "      <td>1072068</td>\n",
       "      <td>9548256</td>\n",
       "      <td>1071931</td>\n",
       "      <td>2559095</td>\n",
       "    </tr>\n",
       "  </tbody>\n",
       "</table>\n",
       "</div>"
      ],
      "text/plain": [
       "      alpha      rate  alpha * rate  VID_pool_size  impressions  VID_reach  \\\n",
       "0  0.000000  0.000000      0.000000              1      7574123          1   \n",
       "1  0.580465  0.327249      0.189957        2902327      4016634    2174670   \n",
       "2  0.214414  2.106500      0.451662        1072068      9548256    1071931   \n",
       "\n",
       "   distinct_users  \n",
       "0         2347072  \n",
       "1         1766188  \n",
       "2         2559095  "
      ]
     },
     "execution_count": 9,
     "metadata": {},
     "output_type": "execute_result"
    }
   ],
   "source": [
    "vid_pool_info = mixture_of_delta_pool_info(vid_impressions, vid_assignment_table)\n",
    "vid_pool_info.show()"
   ]
  },
  {
   "cell_type": "markdown",
   "metadata": {},
   "source": [
    "# Frequency estimation\n",
    "Let us now see if frequency estimation also works using the VID. We first calculate the number persons for any given frequency from the report and then compare that to the VID frequency counts.\n",
    "\n",
    "As is shown by the plot, the frequency distribution of the VID has a exponential decay while the actual TV report data has a long tail (algebraic) fall. How can we address this problem?"
   ]
  },
  {
   "cell_type": "code",
   "execution_count": 10,
   "metadata": {},
   "outputs": [
    {
     "data": {
      "text/plain": [
       "<matplotlib.axes._subplots.AxesSubplot at 0x7f6bfa3e35c0>"
      ]
     },
     "execution_count": 10,
     "metadata": {},
     "output_type": "execute_result"
    },
    {
     "data": {
      "image/png": "[encoded data removed]",
      "text/plain": [
       "<matplotlib.figure.Figure at 0x7f6bfa3cefd0>"
      ]
     },
     "metadata": {
      "needs_background": "light"
     },
     "output_type": "display_data"
    }
   ],
   "source": [
    "frequency = generate_frequency_table(impressions, id_col=\"user_id\", mode=\"count\")\n",
    "vid_frequency = generate_frequency_table(vid_impressions, id_col=\"vid\", mode=\"count\")\n",
    "\n",
    "fig, ax = plt.subplots(figsize=(8, 6))\n",
    "plot_frequency(frequency, id_col=\"user_id\", axes=ax, color='C3')\n",
    "plot_frequency(vid_frequency, id_col=\"vid\", axes=ax, color='C0')"
   ]
  }
 ],
 "metadata": {
  "kernelspec": {
   "display_name": "Python 3",
   "language": "python",
   "name": "python3"
  },
  "language_info": {
   "codemirror_mode": {
    "name": "ipython",
    "version": 3
   },
   "file_extension": ".py",
   "mimetype": "text/x-python",
   "name": "python",
   "nbconvert_exporter": "python",
   "pygments_lexer": "ipython3",
   "version": "3.6.10"
  }
 },
 "nbformat": 4,
 "nbformat_minor": 4
}
