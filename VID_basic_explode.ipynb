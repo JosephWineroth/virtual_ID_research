{
 "cells": [
  {
   "cell_type": "code",
   "execution_count": 1,
   "metadata": {},
   "outputs": [],
   "source": [
    "### START of Spark initial setup ###\n",
    "\n",
    "# NOTE: Set up and initialize Spark session here. The rest of the code assumes that pyspark is accessible.\n",
    "\n",
    "### END of Spark initial setup ###"
   ]
  },
  {
   "cell_type": "code",
   "execution_count": 2,
   "metadata": {},
   "outputs": [],
   "source": [
    "import vid_spark\n",
    "from vid_spark import * \n",
    "import importlib\n",
    "importlib.reload(vid_spark)\n",
    "\n",
    "import pdb\n",
    "\n",
    "import warnings\n",
    "warnings.filterwarnings('ignore')"
   ]
  },
  {
   "cell_type": "code",
   "execution_count": 3,
   "metadata": {},
   "outputs": [
    {
     "name": "stdout",
     "output_type": "stream",
     "text": [
      "The total number of exploded impressions are 431554879\n"
     ]
    },
    {
     "data": {
      "text/html": [
       "<div>\n",
       "<style scoped>\n",
       "    .dataframe tbody tr th:only-of-type {\n",
       "        vertical-align: middle;\n",
       "    }\n",
       "\n",
       "    .dataframe tbody tr th {\n",
       "        vertical-align: top;\n",
       "    }\n",
       "\n",
       "    .dataframe thead th {\n",
       "        text-align: right;\n",
       "    }\n",
       "</style>\n",
       "<table border=\"1\" class=\"dataframe\">\n",
       "  <thead>\n",
       "    <tr style=\"text-align: right;\">\n",
       "      <th></th>\n",
       "      <th>user_id</th>\n",
       "      <th>device</th>\n",
       "      <th>timestamp</th>\n",
       "      <th>weight</th>\n",
       "      <th>income_code</th>\n",
       "      <th>age_range</th>\n",
       "      <th>gender</th>\n",
       "      <th>ethnicity</th>\n",
       "      <th>education</th>\n",
       "    </tr>\n",
       "  </thead>\n",
       "  <tbody>\n",
       "    <tr>\n",
       "      <th>0</th>\n",
       "      <td>10012698441</td>\n",
       "      <td>TV/Linear</td>\n",
       "      <td>2020-05-25 04:16:49</td>\n",
       "      <td>36</td>\n",
       "      <td>F</td>\n",
       "      <td>18_24</td>\n",
       "      <td>male</td>\n",
       "      <td>hispanic</td>\n",
       "      <td>Graduate Degree</td>\n",
       "    </tr>\n",
       "    <tr>\n",
       "      <th>1</th>\n",
       "      <td>10012698442</td>\n",
       "      <td>TV/Linear</td>\n",
       "      <td>2020-05-25 04:16:49</td>\n",
       "      <td>36</td>\n",
       "      <td>F</td>\n",
       "      <td>18_24</td>\n",
       "      <td>male</td>\n",
       "      <td>hispanic</td>\n",
       "      <td>Graduate Degree</td>\n",
       "    </tr>\n",
       "    <tr>\n",
       "      <th>2</th>\n",
       "      <td>10012698443</td>\n",
       "      <td>TV/Linear</td>\n",
       "      <td>2020-05-25 04:16:49</td>\n",
       "      <td>36</td>\n",
       "      <td>F</td>\n",
       "      <td>18_24</td>\n",
       "      <td>male</td>\n",
       "      <td>hispanic</td>\n",
       "      <td>Graduate Degree</td>\n",
       "    </tr>\n",
       "    <tr>\n",
       "      <th>3</th>\n",
       "      <td>10012698444</td>\n",
       "      <td>TV/Linear</td>\n",
       "      <td>2020-05-25 04:16:49</td>\n",
       "      <td>36</td>\n",
       "      <td>F</td>\n",
       "      <td>18_24</td>\n",
       "      <td>male</td>\n",
       "      <td>hispanic</td>\n",
       "      <td>Graduate Degree</td>\n",
       "    </tr>\n",
       "    <tr>\n",
       "      <th>4</th>\n",
       "      <td>10012698445</td>\n",
       "      <td>TV/Linear</td>\n",
       "      <td>2020-05-25 04:16:49</td>\n",
       "      <td>36</td>\n",
       "      <td>F</td>\n",
       "      <td>18_24</td>\n",
       "      <td>male</td>\n",
       "      <td>hispanic</td>\n",
       "      <td>Graduate Degree</td>\n",
       "    </tr>\n",
       "    <tr>\n",
       "      <th>5</th>\n",
       "      <td>10012698446</td>\n",
       "      <td>TV/Linear</td>\n",
       "      <td>2020-05-25 04:16:49</td>\n",
       "      <td>36</td>\n",
       "      <td>F</td>\n",
       "      <td>18_24</td>\n",
       "      <td>male</td>\n",
       "      <td>hispanic</td>\n",
       "      <td>Graduate Degree</td>\n",
       "    </tr>\n",
       "    <tr>\n",
       "      <th>6</th>\n",
       "      <td>10012698447</td>\n",
       "      <td>TV/Linear</td>\n",
       "      <td>2020-05-25 04:16:49</td>\n",
       "      <td>36</td>\n",
       "      <td>F</td>\n",
       "      <td>18_24</td>\n",
       "      <td>male</td>\n",
       "      <td>hispanic</td>\n",
       "      <td>Graduate Degree</td>\n",
       "    </tr>\n",
       "    <tr>\n",
       "      <th>7</th>\n",
       "      <td>10012698448</td>\n",
       "      <td>TV/Linear</td>\n",
       "      <td>2020-05-25 04:16:49</td>\n",
       "      <td>36</td>\n",
       "      <td>F</td>\n",
       "      <td>18_24</td>\n",
       "      <td>male</td>\n",
       "      <td>hispanic</td>\n",
       "      <td>Graduate Degree</td>\n",
       "    </tr>\n",
       "    <tr>\n",
       "      <th>8</th>\n",
       "      <td>10012698449</td>\n",
       "      <td>TV/Linear</td>\n",
       "      <td>2020-05-25 04:16:49</td>\n",
       "      <td>36</td>\n",
       "      <td>F</td>\n",
       "      <td>18_24</td>\n",
       "      <td>male</td>\n",
       "      <td>hispanic</td>\n",
       "      <td>Graduate Degree</td>\n",
       "    </tr>\n",
       "    <tr>\n",
       "      <th>9</th>\n",
       "      <td>100126984410</td>\n",
       "      <td>TV/Linear</td>\n",
       "      <td>2020-05-25 04:16:49</td>\n",
       "      <td>36</td>\n",
       "      <td>F</td>\n",
       "      <td>18_24</td>\n",
       "      <td>male</td>\n",
       "      <td>hispanic</td>\n",
       "      <td>Graduate Degree</td>\n",
       "    </tr>\n",
       "  </tbody>\n",
       "</table>\n",
       "</div>"
      ],
      "text/plain": [
       "        user_id     device           timestamp  weight income_code age_range  \\\n",
       "0   10012698441  TV/Linear 2020-05-25 04:16:49      36           F     18_24   \n",
       "1   10012698442  TV/Linear 2020-05-25 04:16:49      36           F     18_24   \n",
       "2   10012698443  TV/Linear 2020-05-25 04:16:49      36           F     18_24   \n",
       "3   10012698444  TV/Linear 2020-05-25 04:16:49      36           F     18_24   \n",
       "4   10012698445  TV/Linear 2020-05-25 04:16:49      36           F     18_24   \n",
       "5   10012698446  TV/Linear 2020-05-25 04:16:49      36           F     18_24   \n",
       "6   10012698447  TV/Linear 2020-05-25 04:16:49      36           F     18_24   \n",
       "7   10012698448  TV/Linear 2020-05-25 04:16:49      36           F     18_24   \n",
       "8   10012698449  TV/Linear 2020-05-25 04:16:49      36           F     18_24   \n",
       "9  100126984410  TV/Linear 2020-05-25 04:16:49      36           F     18_24   \n",
       "\n",
       "  gender ethnicity        education  \n",
       "0   male  hispanic  Graduate Degree  \n",
       "1   male  hispanic  Graduate Degree  \n",
       "2   male  hispanic  Graduate Degree  \n",
       "3   male  hispanic  Graduate Degree  \n",
       "4   male  hispanic  Graduate Degree  \n",
       "5   male  hispanic  Graduate Degree  \n",
       "6   male  hispanic  Graduate Degree  \n",
       "7   male  hispanic  Graduate Degree  \n",
       "8   male  hispanic  Graduate Degree  \n",
       "9   male  hispanic  Graduate Degree  "
      ]
     },
     "execution_count": 3,
     "metadata": {},
     "output_type": "execute_result"
    }
   ],
   "source": [
    "# Import the impressions tables\n",
    "report_file = \"weighted_impression_table_5demos_report_1\"\n",
    "impressions = spark.table(report_file)\n",
    "\n",
    "impressions_exploded = explode_weights_to_impressions(impressions)\n",
    "\n",
    "# Generate the reach tables\n",
    "reach = generate_reach_table(impressions_exploded, mode=\"count\")\n",
    "\n",
    "print(f\"The total number of exploded impressions are {impressions_exploded.count()}\")\n",
    "impressions_exploded.show()"
   ]
  },
  {
   "cell_type": "code",
   "execution_count": 4,
   "metadata": {},
   "outputs": [
    {
     "name": "stdout",
     "output_type": "stream",
     "text": [
      "[verbose] alphas :  [0.3117 0.1849], rates  :  [0.4337 2.5545]\n"
     ]
    },
    {
     "data": {
      "text/plain": [
       "(<matplotlib.figure.Figure at 0x7f0ac9368ef0>,\n",
       " array([<matplotlib.axes._subplots.AxesSubplot object at 0x7f0ac93ef940>,\n",
       "        <matplotlib.axes._subplots.AxesSubplot object at 0x7f0ac93058d0>],\n",
       "       dtype=object))"
      ]
     },
     "execution_count": 4,
     "metadata": {},
     "output_type": "execute_result"
    },
    {
     "data": {
      "image/png": "[encoded data removed]",
      "text/plain": [
       "<matplotlib.figure.Figure at 0x7f0ac9368ef0>"
      ]
     },
     "metadata": {
      "needs_background": "light"
     },
     "output_type": "display_data"
    }
   ],
   "source": [
    "# Calculating the population size\n",
    "df_census = spark.table(\"amir.experian_census_5demos_counts\")\n",
    "population_size = df_census.agg(F.sum(\"population\")).collect()[0][0]\n",
    "\n",
    "# Fitting on the mixture of deltas and plot\n",
    "alphas, rates = fit_mixture_of_deltas(reach, n_deltas=2, population_size=population_size)\n",
    "plot_reach_curve(reach, alphas=alphas, rates=rates, \n",
    "                 plot_deltas=True, population_size=population_size)"
   ]
  },
  {
   "cell_type": "code",
   "execution_count": 5,
   "metadata": {},
   "outputs": [
    {
     "data": {
      "text/html": [
       "<div>\n",
       "<style scoped>\n",
       "    .dataframe tbody tr th:only-of-type {\n",
       "        vertical-align: middle;\n",
       "    }\n",
       "\n",
       "    .dataframe tbody tr th {\n",
       "        vertical-align: top;\n",
       "    }\n",
       "\n",
       "    .dataframe thead th {\n",
       "        text-align: right;\n",
       "    }\n",
       "</style>\n",
       "<table border=\"1\" class=\"dataframe\">\n",
       "  <thead>\n",
       "    <tr style=\"text-align: right;\">\n",
       "      <th></th>\n",
       "      <th>prob_&gt;=</th>\n",
       "      <th>prob_&lt;</th>\n",
       "      <th>alpha</th>\n",
       "      <th>rate</th>\n",
       "      <th>start_VID</th>\n",
       "      <th>total_VID</th>\n",
       "    </tr>\n",
       "  </thead>\n",
       "  <tbody>\n",
       "    <tr>\n",
       "      <th>0</th>\n",
       "      <td>0.000000</td>\n",
       "      <td>0.135204</td>\n",
       "      <td>0.311747</td>\n",
       "      <td>0.433698</td>\n",
       "      <td>1</td>\n",
       "      <td>39213949</td>\n",
       "    </tr>\n",
       "    <tr>\n",
       "      <th>1</th>\n",
       "      <td>0.135204</td>\n",
       "      <td>0.607632</td>\n",
       "      <td>0.184937</td>\n",
       "      <td>2.554539</td>\n",
       "      <td>39213950</td>\n",
       "      <td>23262788</td>\n",
       "    </tr>\n",
       "    <tr>\n",
       "      <th>2</th>\n",
       "      <td>0.607632</td>\n",
       "      <td>1.000000</td>\n",
       "      <td>0.000000</td>\n",
       "      <td>0.000000</td>\n",
       "      <td>0</td>\n",
       "      <td>1</td>\n",
       "    </tr>\n",
       "  </tbody>\n",
       "</table>\n",
       "</div>"
      ],
      "text/plain": [
       "    prob_>=    prob_<     alpha      rate  start_VID  total_VID\n",
       "0  0.000000  0.135204  0.311747  0.433698          1   39213949\n",
       "1  0.135204  0.607632  0.184937  2.554539   39213950   23262788\n",
       "2  0.607632  1.000000  0.000000  0.000000          0          1"
      ]
     },
     "execution_count": 5,
     "metadata": {},
     "output_type": "execute_result"
    }
   ],
   "source": [
    "df_dirac_mixtures = pd.DataFrame([[1.0, alphas, rates]], columns=['ratio', 'alphas', 'rates'])\n",
    "\n",
    "# Generate the VID assignment table : probability and VID ranges\n",
    "vid_assignment_table = spark.createDataFrame(\n",
    "    generate_vid_assignment_table(df_dirac_mixtures, population_size=population_size, normalize=False)\n",
    ")\n",
    "\n",
    "vid_assignment_table.show()"
   ]
  },
  {
   "cell_type": "code",
   "execution_count": 6,
   "metadata": {},
   "outputs": [],
   "source": [
    "# The parameter for plotting the VID counts\n",
    "vid_reach_kwargs = {\n",
    "    'jump' : 100,\n",
    "    'ylim' : (0, 1.0e8),\n",
    "    'axes_info' : { \n",
    "        'color'      : 'C0',\n",
    "        'linestyle'  : '',\n",
    "        'marker'     : 'd',\n",
    "        'markersize' : 4,\n",
    "        'label'      : 'VID count' \n",
    "    }\n",
    "}"
   ]
  },
  {
   "cell_type": "code",
   "execution_count": 7,
   "metadata": {},
   "outputs": [
    {
     "data": {
      "text/plain": [
       "(<matplotlib.figure.Figure at 0x7f0ac933ba58>,\n",
       " array([<matplotlib.axes._subplots.AxesSubplot object at 0x7f0ac007f9e8>,\n",
       "        <matplotlib.axes._subplots.AxesSubplot object at 0x7f0ac004d2b0>],\n",
       "       dtype=object))"
      ]
     },
     "execution_count": 7,
     "metadata": {},
     "output_type": "execute_result"
    },
    {
     "data": {
      "image/png": "[encoded data removed]",
      "text/plain": [
       "<matplotlib.figure.Figure at 0x7f0ac933ba58>"
      ]
     },
     "metadata": {
      "needs_background": "light"
     },
     "output_type": "display_data"
    }
   ],
   "source": [
    "# Using the \"uid\" mode for the VID assignment that uses `user_id` for the source of randomness\n",
    "vid_impressions = assign_vids(impressions_exploded, vid_assignment_table, \n",
    "                              population_size=population_size, mode=\"uid\")\n",
    "\n",
    "vid_reach = generate_reach_table(vid_impressions, id_col=\"vid\", mode=\"count\")\n",
    "\n",
    "# Plot the VID counts vs reported reach\n",
    "plot_reach_curve(vid_reach, alphas=alphas, rates=rates, \n",
    "                 plot_deltas=True, population_size=population_size, \n",
    "                 reach_kwargs=vid_reach_kwargs)"
   ]
  },
  {
   "cell_type": "code",
   "execution_count": 8,
   "metadata": {},
   "outputs": [
    {
     "data": {
      "text/plain": [
       "(<matplotlib.figure.Figure at 0x7f0ac01668d0>,\n",
       " array([<matplotlib.axes._subplots.AxesSubplot object at 0x7f0ac00b94e0>,\n",
       "        <matplotlib.axes._subplots.AxesSubplot object at 0x7f0ab886ea90>],\n",
       "       dtype=object))"
      ]
     },
     "execution_count": 8,
     "metadata": {},
     "output_type": "execute_result"
    },
    {
     "data": {
      "image/png": "[encoded data removed]",
      "text/plain": [
       "<matplotlib.figure.Figure at 0x7f0ac01668d0>"
      ]
     },
     "metadata": {
      "needs_background": "light"
     },
     "output_type": "display_data"
    }
   ],
   "source": [
    "# Using the \"uid_time\" mode for the VID assignment\n",
    "vid_impressions = assign_vids(impressions_exploded, vid_assignment_table, \n",
    "                              population_size=population_size, mode=\"uid_time\")\n",
    "\n",
    "vid_reach = generate_reach_table(vid_impressions, id_col=\"vid\", mode=\"count\")\n",
    "\n",
    "# Plot the VID counts vs reported reach\n",
    "plot_reach_curve(vid_reach, alphas=alphas, rates=rates, \n",
    "                 plot_deltas=True, population_size=population_size, \n",
    "                 reach_kwargs=vid_reach_kwargs)"
   ]
  },
  {
   "cell_type": "code",
   "execution_count": 9,
   "metadata": {},
   "outputs": [
    {
     "data": {
      "text/html": [
       "<div>\n",
       "<style scoped>\n",
       "    .dataframe tbody tr th:only-of-type {\n",
       "        vertical-align: middle;\n",
       "    }\n",
       "\n",
       "    .dataframe tbody tr th {\n",
       "        vertical-align: top;\n",
       "    }\n",
       "\n",
       "    .dataframe thead th {\n",
       "        text-align: right;\n",
       "    }\n",
       "</style>\n",
       "<table border=\"1\" class=\"dataframe\">\n",
       "  <thead>\n",
       "    <tr style=\"text-align: right;\">\n",
       "      <th></th>\n",
       "      <th>alpha</th>\n",
       "      <th>rate</th>\n",
       "      <th>alpha * rate</th>\n",
       "      <th>VID_pool_size</th>\n",
       "      <th>impressions</th>\n",
       "      <th>VID_reach</th>\n",
       "      <th>distinct_users</th>\n",
       "    </tr>\n",
       "  </thead>\n",
       "  <tbody>\n",
       "    <tr>\n",
       "      <th>0</th>\n",
       "      <td>0.000000</td>\n",
       "      <td>0.000000</td>\n",
       "      <td>0.000000</td>\n",
       "      <td>1</td>\n",
       "      <td>169336390</td>\n",
       "      <td>1</td>\n",
       "      <td>41878725</td>\n",
       "    </tr>\n",
       "    <tr>\n",
       "      <th>1</th>\n",
       "      <td>0.311747</td>\n",
       "      <td>0.433698</td>\n",
       "      <td>0.135204</td>\n",
       "      <td>39213949</td>\n",
       "      <td>58347887</td>\n",
       "      <td>30356113</td>\n",
       "      <td>26825364</td>\n",
       "    </tr>\n",
       "    <tr>\n",
       "      <th>2</th>\n",
       "      <td>0.184937</td>\n",
       "      <td>2.554539</td>\n",
       "      <td>0.472428</td>\n",
       "      <td>23262788</td>\n",
       "      <td>203870602</td>\n",
       "      <td>23259230</td>\n",
       "      <td>44392617</td>\n",
       "    </tr>\n",
       "  </tbody>\n",
       "</table>\n",
       "</div>"
      ],
      "text/plain": [
       "      alpha      rate  alpha * rate  VID_pool_size  impressions  VID_reach  \\\n",
       "0  0.000000  0.000000      0.000000              1    169336390          1   \n",
       "1  0.311747  0.433698      0.135204       39213949     58347887   30356113   \n",
       "2  0.184937  2.554539      0.472428       23262788    203870602   23259230   \n",
       "\n",
       "   distinct_users  \n",
       "0        41878725  \n",
       "1        26825364  \n",
       "2        44392617  "
      ]
     },
     "execution_count": 9,
     "metadata": {},
     "output_type": "execute_result"
    }
   ],
   "source": [
    "vid_pool_info = mixture_of_delta_pool_info(vid_impressions, vid_assignment_table)\n",
    "vid_pool_info.show()"
   ]
  },
  {
   "cell_type": "code",
   "execution_count": 10,
   "metadata": {},
   "outputs": [
    {
     "data": {
      "text/plain": [
       "<matplotlib.axes._subplots.AxesSubplot at 0x7f0ab884e6a0>"
      ]
     },
     "execution_count": 10,
     "metadata": {},
     "output_type": "execute_result"
    },
    {
     "data": {
      "image/png": "[encoded data removed]",
      "text/plain": [
       "<matplotlib.figure.Figure at 0x7f0ab88156d8>"
      ]
     },
     "metadata": {
      "needs_background": "light"
     },
     "output_type": "display_data"
    }
   ],
   "source": [
    "frequency = generate_frequency_table(impressions_exploded, id_col=\"user_id\", mode=\"count\")\n",
    "vid_frequency = generate_frequency_table(vid_impressions, id_col=\"vid\", mode=\"count\")\n",
    "\n",
    "fig, ax = plt.subplots(figsize=(8, 6))\n",
    "plot_frequency(frequency, id_col=\"user_id\", axes=ax, color='C3')\n",
    "plot_frequency(vid_frequency, id_col=\"vid\", axes=ax, color='C0')"
   ]
  }
 ],
 "metadata": {
  "kernelspec": {
   "display_name": "Python 3",
   "language": "python",
   "name": "python3"
  },
  "language_info": {
   "codemirror_mode": {
    "name": "ipython",
    "version": 3
   },
   "file_extension": ".py",
   "mimetype": "text/x-python",
   "name": "python",
   "nbconvert_exporter": "python",
   "pygments_lexer": "ipython3",
   "version": "3.6.10"
  }
 },
 "nbformat": 4,
 "nbformat_minor": 4
}
